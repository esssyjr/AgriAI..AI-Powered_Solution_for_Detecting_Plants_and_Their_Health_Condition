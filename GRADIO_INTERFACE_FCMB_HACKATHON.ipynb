{
 "cells": [
  {
   "cell_type": "code",
   "execution_count": 5,
   "id": "d073d46e-7e84-43a4-b482-9a244106bd30",
   "metadata": {},
   "outputs": [
    {
     "name": "stdout",
     "output_type": "stream",
     "text": [
      "Running on local URL:  http://127.0.0.1:7866\n",
      "\n",
      "Could not create share link. Please check your internet connection or our status page: https://status.gradio.app.\n"
     ]
    },
    {
     "data": {
      "text/html": [
       "<div><iframe src=\"http://127.0.0.1:7866/\" width=\"100%\" height=\"500\" allow=\"autoplay; camera; microphone; clipboard-read; clipboard-write;\" frameborder=\"0\" allowfullscreen></iframe></div>"
      ],
      "text/plain": [
       "<IPython.core.display.HTML object>"
      ]
     },
     "metadata": {},
     "output_type": "display_data"
    },
    {
     "data": {
      "text/plain": []
     },
     "execution_count": 5,
     "metadata": {},
     "output_type": "execute_result"
    },
    {
     "name": "stdout",
     "output_type": "stream",
     "text": [
      "\u001b[1m1/1\u001b[0m \u001b[32m━━━━━━━━━━━━━━━━━━━━\u001b[0m\u001b[37m\u001b[0m \u001b[1m18s\u001b[0m 18s/step\n",
      "\u001b[1m1/1\u001b[0m \u001b[32m━━━━━━━━━━━━━━━━━━━━\u001b[0m\u001b[37m\u001b[0m \u001b[1m0s\u001b[0m 482ms/step\n",
      "\u001b[1m1/1\u001b[0m \u001b[32m━━━━━━━━━━━━━━━━━━━━\u001b[0m\u001b[37m\u001b[0m \u001b[1m0s\u001b[0m 291ms/step\n",
      "\n",
      "0: 640x480 5 SESAME_PLANTs, 4444.2ms\n",
      "Speed: 502.9ms preprocess, 4444.2ms inference, 605.1ms postprocess per image at shape (1, 3, 640, 480)\n"
     ]
    }
   ],
   "source": [
    "import gradio as gr\n",
    "import pickle\n",
    "import numpy as np\n",
    "import cv2\n",
    "from PIL import Image\n",
    "from ultralytics import YOLO\n",
    "from tensorflow.keras.preprocessing.image import img_to_array\n",
    "\n",
    "# Load the disease classification model\n",
    "with open('BEANS_health.pkl', 'rb') as file:\n",
    "    disease_model = pickle.load(file)\n",
    "\n",
    "# Load the YOLO plant detection model\n",
    "plant_model = YOLO('Downloads/best (23).pt') \n",
    "\n",
    "# Define the binary class labels for the disease classification\n",
    "class_labels = [\"healthy\", \"unhealthy\"]\n",
    "\n",
    "# Function to preprocess image for disease classification\n",
    "def preprocess_image(image):\n",
    "    image = np.array(image)\n",
    "    image = cv2.resize(image, (224, 224))  \n",
    "    image = img_to_array(image)\n",
    "    image = np.expand_dims(image, axis=0)\n",
    "    image = image.astype('float32') / 255.0  \n",
    "    return image\n",
    "\n",
    "# Function to classify plant health (disease classification)\n",
    "def predict_health(image):\n",
    "    preprocessed_image = preprocess_image(image)\n",
    "    prediction = disease_model.predict(preprocessed_image)\n",
    "    predicted_index = np.argmax(prediction, axis=1)[0]\n",
    "    predicted_class = class_labels[predicted_index]\n",
    "    return f\"Predicted class: {predicted_class}\"\n",
    "\n",
    "# Function to detect plants and draw red bounding boxes (plant detection)\n",
    "def detect_plant(image):\n",
    "    results = plant_model(image)  # YOLO processes the image directly\n",
    "    image_np = np.array(image)\n",
    "    \n",
    "    for result in results:\n",
    "        boxes = result.boxes.xyxy.cpu().numpy()  # Get bounding box coordinates\n",
    "        labels = result.boxes.cls.cpu().numpy()  # Get the predicted class indices\n",
    "        confs = result.boxes.conf.cpu().numpy()  # Get confidence scores\n",
    "        \n",
    "        for box, label, conf in zip(boxes, labels, confs):\n",
    "            xmin, ymin, xmax, ymax = map(int, box)\n",
    "            # Draw a red bounding box with thicker lines\n",
    "            cv2.rectangle(image_np, (xmin, ymin), (xmax, ymax), (0, 0, 255), 4)  # Red color, thickness 4\n",
    "            class_name = plant_model.names[int(label)]  # Get the class name\n",
    "            text = f\"{class_name} {conf:.2f}\"\n",
    "            # Put class label and confidence score above the bounding box\n",
    "            cv2.putText(image_np, text, (xmin, ymin - 10), cv2.FONT_HERSHEY_SIMPLEX, 0.9, (0, 0, 255), 2)\n",
    "\n",
    "    # Convert the result back to a PIL image for display in Gradio\n",
    "    output_image = Image.fromarray(image_np)\n",
    "    return output_image\n",
    "\n",
    "# Main function to switch between models based on user input\n",
    "def model_selector(image, choice):\n",
    "    if choice == \"Health Condition\":\n",
    "        return predict_health(image), None  # Return prediction text and no image\n",
    "    elif choice == \"Plant Detection\":\n",
    "        return None, detect_plant(image)  # Return no text but output image\n",
    "\n",
    "# Create the Gradio interface with a dropdown to select between the two models\n",
    "interface = gr.Interface(\n",
    "    fn=model_selector,\n",
    "    inputs=[gr.Image(type=\"pil\"), gr.Radio([\"Health Condition\", \"Plant Detection\"], label=\"Select Model\")],\n",
    "    outputs=[gr.Textbox(label=\"Health Prediction\"), gr.Image(label=\"Plant Detection\")],\n",
    "    title=\"\"\"FCMB AGRITECH INNOVATION HACKATHON.                                      \n",
    "    AgriAI: AI-Powered Solution for Detecting Plants and their Health Condition\"\"\"\n",
    ")\n",
    "\n",
    "interface.launch(share=True)\n"
   ]
  },
  {
   "cell_type": "code",
   "execution_count": null,
   "id": "b6806700-306c-48f9-8486-d56829f93683",
   "metadata": {},
   "outputs": [],
   "source": []
  }
 ],
 "metadata": {
  "kernelspec": {
   "display_name": "Python 3 (ipykernel)",
   "language": "python",
   "name": "python3"
  },
  "language_info": {
   "codemirror_mode": {
    "name": "ipython",
    "version": 3
   },
   "file_extension": ".py",
   "mimetype": "text/x-python",
   "name": "python",
   "nbconvert_exporter": "python",
   "pygments_lexer": "ipython3",
   "version": "3.12.3"
  }
 },
 "nbformat": 4,
 "nbformat_minor": 5
}
